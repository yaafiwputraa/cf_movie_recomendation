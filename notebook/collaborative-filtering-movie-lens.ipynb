{
 "cells": [
  {
   "cell_type": "code",
   "execution_count": 5,
   "metadata": {
    "_cell_guid": "013fc715-47e6-41ed-a423-5abb5675df46",
    "_uuid": "ef9bd186-d3dc-4560-81a9-341c90fb70aa",
    "collapsed": false,
    "execution": {
     "iopub.execute_input": "2025-03-01T12:18:28.368216Z",
     "iopub.status.busy": "2025-03-01T12:18:28.367864Z",
     "iopub.status.idle": "2025-03-01T12:18:32.740655Z",
     "shell.execute_reply": "2025-03-01T12:18:32.739558Z",
     "shell.execute_reply.started": "2025-03-01T12:18:28.368192Z"
    },
    "jupyter": {
     "outputs_hidden": false
    },
    "trusted": true
   },
   "outputs": [],
   "source": [
    "# This Python 3 environment comes with many helpful analytics libraries installed\n",
    "# It is defined by the kaggle/python Docker image: https://github.com/kaggle/docker-python\n",
    "# For example, here's several helpful packages to load\n",
    "\n",
    "import numpy as np # linear algebra\n",
    "import pandas as pd # data processing, CSV file I/O (e.g. pd.read_csv)\n",
    "\n",
    "# Input data files are available in the read-only \"../input/\" directory\n",
    "# For example, running this (by clicking run or pressing Shift+Enter) will list all files under the input directory\n",
    "import torch\n",
    "import os\n",
    "import torch.optim as optim\n",
    "\n",
    "# You can write up to 20GB to the current directory (/kaggle/working/) that gets preserved as output when you create a version using \"Save & Run All\" \n",
    "# You can also write temporary files to /kaggle/temp/, but they won't be saved outside of the current session"
   ]
  },
  {
   "cell_type": "code",
   "execution_count": 6,
   "metadata": {
    "_cell_guid": "86c407ba-a83f-4c11-a07f-06203f4259f7",
    "_uuid": "57bb65c6-c37e-4ffc-9638-a4e7fb2834ac",
    "collapsed": false,
    "execution": {
     "iopub.execute_input": "2025-03-01T12:18:32.742779Z",
     "iopub.status.busy": "2025-03-01T12:18:32.742173Z",
     "iopub.status.idle": "2025-03-01T12:18:32.753600Z",
     "shell.execute_reply": "2025-03-01T12:18:32.752497Z",
     "shell.execute_reply.started": "2025-03-01T12:18:32.742736Z"
    },
    "jupyter": {
     "outputs_hidden": false
    },
    "trusted": true
   },
   "outputs": [],
   "source": [
    "def set_random_seed(state=1):\n",
    "    gens = (np.random.seed, torch.manual_seed, torch.cuda.manual_seed)\n",
    "    for set_state in gens:\n",
    "        set_state(state)\n",
    "\n",
    "RANDOM_STATE = 42\n",
    "set_random_seed(RANDOM_STATE)"
   ]
  },
  {
   "cell_type": "markdown",
   "metadata": {},
   "source": [
    "# 1. Load dataset"
   ]
  },
  {
   "cell_type": "code",
   "execution_count": 7,
   "metadata": {
    "_cell_guid": "c382db32-893a-41d8-9420-64f5f08cc9df",
    "_uuid": "edb69ef2-85c6-4a0c-92d4-068e29511072",
    "collapsed": false,
    "execution": {
     "iopub.execute_input": "2025-03-01T12:18:52.830337Z",
     "iopub.status.busy": "2025-03-01T12:18:52.829965Z",
     "iopub.status.idle": "2025-03-01T12:18:52.962618Z",
     "shell.execute_reply": "2025-03-01T12:18:52.961445Z",
     "shell.execute_reply.started": "2025-03-01T12:18:52.830309Z"
    },
    "jupyter": {
     "outputs_hidden": false
    },
    "trusted": true
   },
   "outputs": [],
   "source": [
    "ratings = pd.read_csv(\"../data/ratings.csv\")\n",
    "movies = pd.read_csv(\"../data/movies.csv\")"
   ]
  },
  {
   "cell_type": "markdown",
   "metadata": {},
   "source": [
    "# 2. Basic EDA"
   ]
  },
  {
   "cell_type": "code",
   "execution_count": 8,
   "metadata": {
    "_cell_guid": "bba8a98a-0496-4719-9957-9e6620a0ea30",
    "_uuid": "da67cbfc-c176-4a1b-b213-6db739164bfd",
    "collapsed": false,
    "execution": {
     "iopub.execute_input": "2025-03-01T12:18:54.370759Z",
     "iopub.status.busy": "2025-03-01T12:18:54.370429Z",
     "iopub.status.idle": "2025-03-01T12:18:54.412774Z",
     "shell.execute_reply": "2025-03-01T12:18:54.411803Z",
     "shell.execute_reply.started": "2025-03-01T12:18:54.370736Z"
    },
    "jupyter": {
     "outputs_hidden": false
    },
    "trusted": true
   },
   "outputs": [
    {
     "data": {
      "text/html": [
       "<div>\n",
       "<style scoped>\n",
       "    .dataframe tbody tr th:only-of-type {\n",
       "        vertical-align: middle;\n",
       "    }\n",
       "\n",
       "    .dataframe tbody tr th {\n",
       "        vertical-align: top;\n",
       "    }\n",
       "\n",
       "    .dataframe thead th {\n",
       "        text-align: right;\n",
       "    }\n",
       "</style>\n",
       "<table border=\"1\" class=\"dataframe\">\n",
       "  <thead>\n",
       "    <tr style=\"text-align: right;\">\n",
       "      <th></th>\n",
       "      <th>userId</th>\n",
       "      <th>movieId</th>\n",
       "      <th>rating</th>\n",
       "      <th>timestamp</th>\n",
       "    </tr>\n",
       "  </thead>\n",
       "  <tbody>\n",
       "  </tbody>\n",
       "</table>\n",
       "</div>"
      ],
      "text/plain": [
       "Empty DataFrame\n",
       "Columns: [userId, movieId, rating, timestamp]\n",
       "Index: []"
      ]
     },
     "execution_count": 8,
     "metadata": {},
     "output_type": "execute_result"
    }
   ],
   "source": [
    "ratings[ratings.duplicated(subset = ['userId','movieId'])]"
   ]
  },
  {
   "cell_type": "code",
   "execution_count": 9,
   "metadata": {
    "_cell_guid": "a5c31f5f-1206-48d1-965c-f1c739f6775a",
    "_uuid": "4bcae98e-5ab9-46e1-bcc5-9e24781b39fa",
    "collapsed": false,
    "execution": {
     "iopub.execute_input": "2025-03-01T12:18:54.529490Z",
     "iopub.status.busy": "2025-03-01T12:18:54.529152Z",
     "iopub.status.idle": "2025-03-01T12:18:54.551525Z",
     "shell.execute_reply": "2025-03-01T12:18:54.550522Z",
     "shell.execute_reply.started": "2025-03-01T12:18:54.529464Z"
    },
    "jupyter": {
     "outputs_hidden": false
    },
    "trusted": true
   },
   "outputs": [
    {
     "name": "stdout",
     "output_type": "stream",
     "text": [
      "<class 'pandas.core.frame.DataFrame'>\n",
      "RangeIndex: 9742 entries, 0 to 9741\n",
      "Data columns (total 3 columns):\n",
      " #   Column   Non-Null Count  Dtype \n",
      "---  ------   --------------  ----- \n",
      " 0   movieId  9742 non-null   int64 \n",
      " 1   title    9742 non-null   object\n",
      " 2   genres   9742 non-null   object\n",
      "dtypes: int64(1), object(2)\n",
      "memory usage: 228.5+ KB\n"
     ]
    }
   ],
   "source": [
    "movies.info()"
   ]
  },
  {
   "cell_type": "code",
   "execution_count": 10,
   "metadata": {
    "_cell_guid": "50881690-2b08-42aa-92b1-a63075f3a2e2",
    "_uuid": "d193fd0a-c892-4776-841e-87bb2af1c8db",
    "collapsed": false,
    "execution": {
     "iopub.execute_input": "2025-03-01T12:18:54.679950Z",
     "iopub.status.busy": "2025-03-01T12:18:54.679596Z",
     "iopub.status.idle": "2025-03-01T12:18:54.687518Z",
     "shell.execute_reply": "2025-03-01T12:18:54.686450Z",
     "shell.execute_reply.started": "2025-03-01T12:18:54.679903Z"
    },
    "jupyter": {
     "outputs_hidden": false
    },
    "trusted": true
   },
   "outputs": [
    {
     "data": {
      "text/plain": [
       "9724"
      ]
     },
     "execution_count": 10,
     "metadata": {},
     "output_type": "execute_result"
    }
   ],
   "source": [
    "len(ratings['movieId'].unique())"
   ]
  },
  {
   "cell_type": "code",
   "execution_count": 11,
   "metadata": {
    "execution": {
     "iopub.execute_input": "2025-03-01T12:18:54.829136Z",
     "iopub.status.busy": "2025-03-01T12:18:54.828760Z",
     "iopub.status.idle": "2025-03-01T12:18:54.834885Z",
     "shell.execute_reply": "2025-03-01T12:18:54.833988Z",
     "shell.execute_reply.started": "2025-03-01T12:18:54.829108Z"
    },
    "trusted": true
   },
   "outputs": [],
   "source": [
    "rated_movie_ids = ratings['movieId'].unique()"
   ]
  },
  {
   "cell_type": "code",
   "execution_count": 12,
   "metadata": {
    "execution": {
     "iopub.execute_input": "2025-03-01T12:18:54.959890Z",
     "iopub.status.busy": "2025-03-01T12:18:54.959573Z",
     "iopub.status.idle": "2025-03-01T12:18:54.970555Z",
     "shell.execute_reply": "2025-03-01T12:18:54.969365Z",
     "shell.execute_reply.started": "2025-03-01T12:18:54.959867Z"
    },
    "trusted": true
   },
   "outputs": [
    {
     "name": "stdout",
     "output_type": "stream",
     "text": [
      "Number of movies before filtering: 9742\n",
      "Number of movies after filtering: 9724\n"
     ]
    }
   ],
   "source": [
    "filtered_movies_df = movies[movies['movieId'].isin(rated_movie_ids)].copy()\n",
    "\n",
    "# Optionally, you can check the number of rows after filtering\n",
    "print(\"Number of movies before filtering:\", movies.shape[0])\n",
    "print(\"Number of movies after filtering:\", filtered_movies_df.shape[0])"
   ]
  },
  {
   "cell_type": "code",
   "execution_count": 13,
   "metadata": {
    "execution": {
     "iopub.execute_input": "2025-03-01T12:18:55.131471Z",
     "iopub.status.busy": "2025-03-01T12:18:55.131141Z",
     "iopub.status.idle": "2025-03-01T12:18:55.136258Z",
     "shell.execute_reply": "2025-03-01T12:18:55.135108Z",
     "shell.execute_reply.started": "2025-03-01T12:18:55.131448Z"
    },
    "trusted": true
   },
   "outputs": [],
   "source": [
    "movies = filtered_movies_df"
   ]
  },
  {
   "cell_type": "code",
   "execution_count": 17,
   "metadata": {
    "_cell_guid": "f448ff89-9a41-43d6-a781-7def6f5782eb",
    "_uuid": "053509c2-0295-4c31-89cd-d7b2279b1567",
    "collapsed": false,
    "execution": {
     "iopub.execute_input": "2025-03-01T12:18:55.303561Z",
     "iopub.status.busy": "2025-03-01T12:18:55.303205Z",
     "iopub.status.idle": "2025-03-01T12:18:55.314092Z",
     "shell.execute_reply": "2025-03-01T12:18:55.312802Z",
     "shell.execute_reply.started": "2025-03-01T12:18:55.303535Z"
    },
    "jupyter": {
     "outputs_hidden": false
    },
    "trusted": true
   },
   "outputs": [
    {
     "data": {
      "text/html": [
       "<div>\n",
       "<style scoped>\n",
       "    .dataframe tbody tr th:only-of-type {\n",
       "        vertical-align: middle;\n",
       "    }\n",
       "\n",
       "    .dataframe tbody tr th {\n",
       "        vertical-align: top;\n",
       "    }\n",
       "\n",
       "    .dataframe thead th {\n",
       "        text-align: right;\n",
       "    }\n",
       "</style>\n",
       "<table border=\"1\" class=\"dataframe\">\n",
       "  <thead>\n",
       "    <tr style=\"text-align: right;\">\n",
       "      <th></th>\n",
       "      <th>userId</th>\n",
       "      <th>movieId</th>\n",
       "      <th>rating</th>\n",
       "      <th>timestamp</th>\n",
       "    </tr>\n",
       "  </thead>\n",
       "  <tbody>\n",
       "    <tr>\n",
       "      <th>0</th>\n",
       "      <td>1</td>\n",
       "      <td>1</td>\n",
       "      <td>4.0</td>\n",
       "      <td>964982703</td>\n",
       "    </tr>\n",
       "    <tr>\n",
       "      <th>1</th>\n",
       "      <td>1</td>\n",
       "      <td>3</td>\n",
       "      <td>4.0</td>\n",
       "      <td>964981247</td>\n",
       "    </tr>\n",
       "    <tr>\n",
       "      <th>2</th>\n",
       "      <td>1</td>\n",
       "      <td>6</td>\n",
       "      <td>4.0</td>\n",
       "      <td>964982224</td>\n",
       "    </tr>\n",
       "    <tr>\n",
       "      <th>3</th>\n",
       "      <td>1</td>\n",
       "      <td>47</td>\n",
       "      <td>5.0</td>\n",
       "      <td>964983815</td>\n",
       "    </tr>\n",
       "    <tr>\n",
       "      <th>4</th>\n",
       "      <td>1</td>\n",
       "      <td>50</td>\n",
       "      <td>5.0</td>\n",
       "      <td>964982931</td>\n",
       "    </tr>\n",
       "  </tbody>\n",
       "</table>\n",
       "</div>"
      ],
      "text/plain": [
       "   userId  movieId  rating  timestamp\n",
       "0       1        1     4.0  964982703\n",
       "1       1        3     4.0  964981247\n",
       "2       1        6     4.0  964982224\n",
       "3       1       47     5.0  964983815\n",
       "4       1       50     5.0  964982931"
      ]
     },
     "execution_count": 17,
     "metadata": {},
     "output_type": "execute_result"
    }
   ],
   "source": [
    "ratings.head()"
   ]
  },
  {
   "cell_type": "code",
   "execution_count": 18,
   "metadata": {
    "_cell_guid": "71c2d505-8e71-4a8a-8f68-fde3cc4e535a",
    "_uuid": "ae6db78b-f0d7-482d-9c16-6e92048bac8a",
    "collapsed": false,
    "execution": {
     "iopub.execute_input": "2025-03-01T12:18:55.813992Z",
     "iopub.status.busy": "2025-03-01T12:18:55.813609Z",
     "iopub.status.idle": "2025-03-01T12:18:55.823616Z",
     "shell.execute_reply": "2025-03-01T12:18:55.822261Z",
     "shell.execute_reply.started": "2025-03-01T12:18:55.813951Z"
    },
    "jupyter": {
     "outputs_hidden": false
    },
    "trusted": true
   },
   "outputs": [
    {
     "data": {
      "text/html": [
       "<div>\n",
       "<style scoped>\n",
       "    .dataframe tbody tr th:only-of-type {\n",
       "        vertical-align: middle;\n",
       "    }\n",
       "\n",
       "    .dataframe tbody tr th {\n",
       "        vertical-align: top;\n",
       "    }\n",
       "\n",
       "    .dataframe thead th {\n",
       "        text-align: right;\n",
       "    }\n",
       "</style>\n",
       "<table border=\"1\" class=\"dataframe\">\n",
       "  <thead>\n",
       "    <tr style=\"text-align: right;\">\n",
       "      <th></th>\n",
       "      <th>movieId</th>\n",
       "      <th>title</th>\n",
       "      <th>genres</th>\n",
       "    </tr>\n",
       "  </thead>\n",
       "  <tbody>\n",
       "    <tr>\n",
       "      <th>0</th>\n",
       "      <td>1</td>\n",
       "      <td>Toy Story (1995)</td>\n",
       "      <td>Adventure|Animation|Children|Comedy|Fantasy</td>\n",
       "    </tr>\n",
       "    <tr>\n",
       "      <th>1</th>\n",
       "      <td>2</td>\n",
       "      <td>Jumanji (1995)</td>\n",
       "      <td>Adventure|Children|Fantasy</td>\n",
       "    </tr>\n",
       "    <tr>\n",
       "      <th>2</th>\n",
       "      <td>3</td>\n",
       "      <td>Grumpier Old Men (1995)</td>\n",
       "      <td>Comedy|Romance</td>\n",
       "    </tr>\n",
       "    <tr>\n",
       "      <th>3</th>\n",
       "      <td>4</td>\n",
       "      <td>Waiting to Exhale (1995)</td>\n",
       "      <td>Comedy|Drama|Romance</td>\n",
       "    </tr>\n",
       "    <tr>\n",
       "      <th>4</th>\n",
       "      <td>5</td>\n",
       "      <td>Father of the Bride Part II (1995)</td>\n",
       "      <td>Comedy</td>\n",
       "    </tr>\n",
       "  </tbody>\n",
       "</table>\n",
       "</div>"
      ],
      "text/plain": [
       "   movieId                               title  \\\n",
       "0        1                    Toy Story (1995)   \n",
       "1        2                      Jumanji (1995)   \n",
       "2        3             Grumpier Old Men (1995)   \n",
       "3        4            Waiting to Exhale (1995)   \n",
       "4        5  Father of the Bride Part II (1995)   \n",
       "\n",
       "                                        genres  \n",
       "0  Adventure|Animation|Children|Comedy|Fantasy  \n",
       "1                   Adventure|Children|Fantasy  \n",
       "2                               Comedy|Romance  \n",
       "3                         Comedy|Drama|Romance  \n",
       "4                                       Comedy  "
      ]
     },
     "execution_count": 18,
     "metadata": {},
     "output_type": "execute_result"
    }
   ],
   "source": [
    "movies.head()"
   ]
  },
  {
   "cell_type": "code",
   "execution_count": 19,
   "metadata": {
    "_cell_guid": "1582acc3-2520-4495-a9ff-ae232b767a19",
    "_uuid": "7b7ec910-cb24-4d05-866c-0cfe8365e77c",
    "collapsed": false,
    "execution": {
     "iopub.execute_input": "2025-03-01T12:18:55.877512Z",
     "iopub.status.busy": "2025-03-01T12:18:55.877167Z",
     "iopub.status.idle": "2025-03-01T12:18:55.884586Z",
     "shell.execute_reply": "2025-03-01T12:18:55.883371Z",
     "shell.execute_reply.started": "2025-03-01T12:18:55.877488Z"
    },
    "jupyter": {
     "outputs_hidden": false
    },
    "trusted": true
   },
   "outputs": [
    {
     "data": {
      "text/plain": [
       "(0.5, 5.0)"
      ]
     },
     "execution_count": 19,
     "metadata": {},
     "output_type": "execute_result"
    }
   ],
   "source": [
    "minmax = ratings.rating.min(), ratings.rating.max()\n",
    "minmax"
   ]
  },
  {
   "cell_type": "code",
   "execution_count": 20,
   "metadata": {
    "_cell_guid": "c7dd68e4-7649-476d-9d15-c02a749ab1f6",
    "_uuid": "60b8ab2e-87d7-4e00-9520-9d6f20a93871",
    "collapsed": false,
    "execution": {
     "iopub.execute_input": "2025-03-01T12:18:55.939915Z",
     "iopub.status.busy": "2025-03-01T12:18:55.939570Z",
     "iopub.status.idle": "2025-03-01T12:18:55.946848Z",
     "shell.execute_reply": "2025-03-01T12:18:55.945977Z",
     "shell.execute_reply.started": "2025-03-01T12:18:55.939891Z"
    },
    "jupyter": {
     "outputs_hidden": false
    },
    "trusted": true
   },
   "outputs": [
    {
     "data": {
      "text/plain": [
       "9724"
      ]
     },
     "execution_count": 20,
     "metadata": {},
     "output_type": "execute_result"
    }
   ],
   "source": [
    "len(movies['movieId'].unique())"
   ]
  },
  {
   "cell_type": "code",
   "execution_count": 21,
   "metadata": {
    "_cell_guid": "4df825fc-c955-455e-9b53-e4f77691b81e",
    "_uuid": "60e31033-36a6-4a26-ac87-5b56d9eb49a8",
    "collapsed": false,
    "execution": {
     "iopub.execute_input": "2025-03-01T12:18:56.003388Z",
     "iopub.status.busy": "2025-03-01T12:18:56.003032Z",
     "iopub.status.idle": "2025-03-01T12:18:56.012406Z",
     "shell.execute_reply": "2025-03-01T12:18:56.011369Z",
     "shell.execute_reply.started": "2025-03-01T12:18:56.003362Z"
    },
    "jupyter": {
     "outputs_hidden": false
    },
    "trusted": true
   },
   "outputs": [
    {
     "data": {
      "text/html": [
       "<div>\n",
       "<style scoped>\n",
       "    .dataframe tbody tr th:only-of-type {\n",
       "        vertical-align: middle;\n",
       "    }\n",
       "\n",
       "    .dataframe tbody tr th {\n",
       "        vertical-align: top;\n",
       "    }\n",
       "\n",
       "    .dataframe thead th {\n",
       "        text-align: right;\n",
       "    }\n",
       "</style>\n",
       "<table border=\"1\" class=\"dataframe\">\n",
       "  <thead>\n",
       "    <tr style=\"text-align: right;\">\n",
       "      <th></th>\n",
       "      <th>movieId</th>\n",
       "      <th>title</th>\n",
       "      <th>genres</th>\n",
       "    </tr>\n",
       "  </thead>\n",
       "  <tbody>\n",
       "  </tbody>\n",
       "</table>\n",
       "</div>"
      ],
      "text/plain": [
       "Empty DataFrame\n",
       "Columns: [movieId, title, genres]\n",
       "Index: []"
      ]
     },
     "execution_count": 21,
     "metadata": {},
     "output_type": "execute_result"
    }
   ],
   "source": [
    "movies[movies.duplicated(subset = \"movieId\",keep = \"first\")]"
   ]
  },
  {
   "cell_type": "code",
   "execution_count": 22,
   "metadata": {
    "_cell_guid": "0bceb567-b201-48d4-81e9-d5424f95e5a7",
    "_uuid": "f1559ae4-f701-4f30-a1f2-4dfede841ae2",
    "collapsed": false,
    "execution": {
     "iopub.execute_input": "2025-03-01T12:18:56.089954Z",
     "iopub.status.busy": "2025-03-01T12:18:56.089598Z",
     "iopub.status.idle": "2025-03-01T12:18:56.153155Z",
     "shell.execute_reply": "2025-03-01T12:18:56.152024Z",
     "shell.execute_reply.started": "2025-03-01T12:18:56.089904Z"
    },
    "jupyter": {
     "outputs_hidden": false
    },
    "trusted": true
   },
   "outputs": [
    {
     "name": "stderr",
     "output_type": "stream",
     "text": [
      "<ipython-input-22-f6074228be59>:10: FutureWarning: The provided callable <built-in function sum> is currently using DataFrameGroupBy.sum. In a future version of pandas, the provided callable will be used directly. To keep current behavior pass the string \"sum\" instead.\n",
      "  return pd.crosstab(top.userId,top.movieId,top.rating, aggfunc = sum)\n",
      "/usr/local/lib/python3.10/dist-packages/pandas/io/formats/format.py:1458: RuntimeWarning: invalid value encountered in greater\n",
      "  has_large_values = (abs_vals > 1e6).any()\n",
      "/usr/local/lib/python3.10/dist-packages/pandas/io/formats/format.py:1459: RuntimeWarning: invalid value encountered in less\n",
      "  has_small_values = ((abs_vals < 10 ** (-self.digits)) & (abs_vals > 0)).any()\n",
      "/usr/local/lib/python3.10/dist-packages/pandas/io/formats/format.py:1459: RuntimeWarning: invalid value encountered in greater\n",
      "  has_small_values = ((abs_vals < 10 ** (-self.digits)) & (abs_vals > 0)).any()\n"
     ]
    },
    {
     "data": {
      "text/html": [
       "<div>\n",
       "<style scoped>\n",
       "    .dataframe tbody tr th:only-of-type {\n",
       "        vertical-align: middle;\n",
       "    }\n",
       "\n",
       "    .dataframe tbody tr th {\n",
       "        vertical-align: top;\n",
       "    }\n",
       "\n",
       "    .dataframe thead th {\n",
       "        text-align: right;\n",
       "    }\n",
       "</style>\n",
       "<table border=\"1\" class=\"dataframe\">\n",
       "  <thead>\n",
       "    <tr style=\"text-align: right;\">\n",
       "      <th>movieId</th>\n",
       "      <th>110</th>\n",
       "      <th>260</th>\n",
       "      <th>296</th>\n",
       "      <th>318</th>\n",
       "      <th>356</th>\n",
       "      <th>480</th>\n",
       "      <th>527</th>\n",
       "      <th>589</th>\n",
       "      <th>593</th>\n",
       "      <th>2571</th>\n",
       "    </tr>\n",
       "    <tr>\n",
       "      <th>userId</th>\n",
       "      <th></th>\n",
       "      <th></th>\n",
       "      <th></th>\n",
       "      <th></th>\n",
       "      <th></th>\n",
       "      <th></th>\n",
       "      <th></th>\n",
       "      <th></th>\n",
       "      <th></th>\n",
       "      <th></th>\n",
       "    </tr>\n",
       "  </thead>\n",
       "  <tbody>\n",
       "    <tr>\n",
       "      <th>68</th>\n",
       "      <td>2.5</td>\n",
       "      <td>5.0</td>\n",
       "      <td>2.0</td>\n",
       "      <td>3.0</td>\n",
       "      <td>3.5</td>\n",
       "      <td>3.5</td>\n",
       "      <td>4.0</td>\n",
       "      <td>3.5</td>\n",
       "      <td>3.5</td>\n",
       "      <td>4.5</td>\n",
       "    </tr>\n",
       "    <tr>\n",
       "      <th>274</th>\n",
       "      <td>4.5</td>\n",
       "      <td>3.0</td>\n",
       "      <td>5.0</td>\n",
       "      <td>4.5</td>\n",
       "      <td>4.5</td>\n",
       "      <td>3.5</td>\n",
       "      <td>4.0</td>\n",
       "      <td>4.5</td>\n",
       "      <td>4.0</td>\n",
       "      <td>4.0</td>\n",
       "    </tr>\n",
       "    <tr>\n",
       "      <th>288</th>\n",
       "      <td>5.0</td>\n",
       "      <td>5.0</td>\n",
       "      <td>5.0</td>\n",
       "      <td>5.0</td>\n",
       "      <td>5.0</td>\n",
       "      <td>2.0</td>\n",
       "      <td>5.0</td>\n",
       "      <td>4.0</td>\n",
       "      <td>5.0</td>\n",
       "      <td>3.0</td>\n",
       "    </tr>\n",
       "    <tr>\n",
       "      <th>380</th>\n",
       "      <td>4.0</td>\n",
       "      <td>5.0</td>\n",
       "      <td>5.0</td>\n",
       "      <td>3.0</td>\n",
       "      <td>5.0</td>\n",
       "      <td>5.0</td>\n",
       "      <td>NaN</td>\n",
       "      <td>5.0</td>\n",
       "      <td>5.0</td>\n",
       "      <td>4.5</td>\n",
       "    </tr>\n",
       "    <tr>\n",
       "      <th>414</th>\n",
       "      <td>5.0</td>\n",
       "      <td>5.0</td>\n",
       "      <td>5.0</td>\n",
       "      <td>5.0</td>\n",
       "      <td>5.0</td>\n",
       "      <td>4.0</td>\n",
       "      <td>4.0</td>\n",
       "      <td>5.0</td>\n",
       "      <td>4.0</td>\n",
       "      <td>5.0</td>\n",
       "    </tr>\n",
       "    <tr>\n",
       "      <th>448</th>\n",
       "      <td>NaN</td>\n",
       "      <td>5.0</td>\n",
       "      <td>5.0</td>\n",
       "      <td>NaN</td>\n",
       "      <td>3.0</td>\n",
       "      <td>3.0</td>\n",
       "      <td>NaN</td>\n",
       "      <td>3.0</td>\n",
       "      <td>5.0</td>\n",
       "      <td>2.0</td>\n",
       "    </tr>\n",
       "    <tr>\n",
       "      <th>474</th>\n",
       "      <td>3.0</td>\n",
       "      <td>4.0</td>\n",
       "      <td>4.0</td>\n",
       "      <td>5.0</td>\n",
       "      <td>3.0</td>\n",
       "      <td>4.5</td>\n",
       "      <td>5.0</td>\n",
       "      <td>4.0</td>\n",
       "      <td>4.5</td>\n",
       "      <td>4.5</td>\n",
       "    </tr>\n",
       "    <tr>\n",
       "      <th>599</th>\n",
       "      <td>3.5</td>\n",
       "      <td>5.0</td>\n",
       "      <td>5.0</td>\n",
       "      <td>4.0</td>\n",
       "      <td>3.5</td>\n",
       "      <td>4.0</td>\n",
       "      <td>NaN</td>\n",
       "      <td>4.5</td>\n",
       "      <td>3.0</td>\n",
       "      <td>5.0</td>\n",
       "    </tr>\n",
       "    <tr>\n",
       "      <th>606</th>\n",
       "      <td>3.5</td>\n",
       "      <td>4.5</td>\n",
       "      <td>5.0</td>\n",
       "      <td>3.5</td>\n",
       "      <td>4.0</td>\n",
       "      <td>2.5</td>\n",
       "      <td>5.0</td>\n",
       "      <td>3.5</td>\n",
       "      <td>4.5</td>\n",
       "      <td>5.0</td>\n",
       "    </tr>\n",
       "    <tr>\n",
       "      <th>610</th>\n",
       "      <td>4.5</td>\n",
       "      <td>5.0</td>\n",
       "      <td>5.0</td>\n",
       "      <td>3.0</td>\n",
       "      <td>3.0</td>\n",
       "      <td>5.0</td>\n",
       "      <td>3.5</td>\n",
       "      <td>5.0</td>\n",
       "      <td>4.5</td>\n",
       "      <td>5.0</td>\n",
       "    </tr>\n",
       "  </tbody>\n",
       "</table>\n",
       "</div>"
      ],
      "text/plain": [
       "movieId  110   260   296   318   356   480   527   589   593   2571\n",
       "userId                                                             \n",
       "68        2.5   5.0   2.0   3.0   3.5   3.5   4.0   3.5   3.5   4.5\n",
       "274       4.5   3.0   5.0   4.5   4.5   3.5   4.0   4.5   4.0   4.0\n",
       "288       5.0   5.0   5.0   5.0   5.0   2.0   5.0   4.0   5.0   3.0\n",
       "380       4.0   5.0   5.0   3.0   5.0   5.0   NaN   5.0   5.0   4.5\n",
       "414       5.0   5.0   5.0   5.0   5.0   4.0   4.0   5.0   4.0   5.0\n",
       "448       NaN   5.0   5.0   NaN   3.0   3.0   NaN   3.0   5.0   2.0\n",
       "474       3.0   4.0   4.0   5.0   3.0   4.5   5.0   4.0   4.5   4.5\n",
       "599       3.5   5.0   5.0   4.0   3.5   4.0   NaN   4.5   3.0   5.0\n",
       "606       3.5   4.5   5.0   3.5   4.0   2.5   5.0   3.5   4.5   5.0\n",
       "610       4.5   5.0   5.0   3.0   3.0   5.0   3.5   5.0   4.5   5.0"
      ]
     },
     "execution_count": 22,
     "metadata": {},
     "output_type": "execute_result"
    }
   ],
   "source": [
    "def preview(ratings, n = 10):\n",
    "    user_groups = ratings.groupby('userId')['rating'].count()\n",
    "    top_users = user_groups.sort_values(ascending=False)[:n]\n",
    "\n",
    "    movie_groups = ratings.groupby('movieId')['rating'].count()\n",
    "    top_movies = movie_groups.sort_values(ascending=False)[:n]\n",
    "\n",
    "    top = (ratings.join(top_users,rsuffix  = \"_r\", how = \"inner\", on = \"userId\").join(top_movies,rsuffix  = \"_r\", how= \"inner\", on = \"movieId\"))\n",
    "\n",
    "    return pd.crosstab(top.userId,top.movieId,top.rating, aggfunc = sum)\n",
    "\n",
    "preview(ratings)"
   ]
  },
  {
   "cell_type": "markdown",
   "metadata": {},
   "source": [
    "# 3. Preparing the training data"
   ]
  },
  {
   "cell_type": "code",
   "execution_count": 25,
   "metadata": {
    "_cell_guid": "0002a1bb-450e-4561-b503-db7c888f97a8",
    "_uuid": "7b5a5d33-8176-444d-99ff-593ef8bdbf71",
    "collapsed": false,
    "execution": {
     "iopub.execute_input": "2025-03-01T12:18:56.312254Z",
     "iopub.status.busy": "2025-03-01T12:18:56.311835Z",
     "iopub.status.idle": "2025-03-01T12:18:56.471111Z",
     "shell.execute_reply": "2025-03-01T12:18:56.470165Z",
     "shell.execute_reply.started": "2025-03-01T12:18:56.312225Z"
    },
    "jupyter": {
     "outputs_hidden": false
    },
    "trusted": true
   },
   "outputs": [
    {
     "data": {
      "text/html": [
       "<div>\n",
       "<style scoped>\n",
       "    .dataframe tbody tr th:only-of-type {\n",
       "        vertical-align: middle;\n",
       "    }\n",
       "\n",
       "    .dataframe tbody tr th {\n",
       "        vertical-align: top;\n",
       "    }\n",
       "\n",
       "    .dataframe thead th {\n",
       "        text-align: right;\n",
       "    }\n",
       "</style>\n",
       "<table border=\"1\" class=\"dataframe\">\n",
       "  <thead>\n",
       "    <tr style=\"text-align: right;\">\n",
       "      <th>userId</th>\n",
       "      <th>1</th>\n",
       "      <th>2</th>\n",
       "      <th>3</th>\n",
       "      <th>4</th>\n",
       "      <th>5</th>\n",
       "      <th>6</th>\n",
       "      <th>7</th>\n",
       "      <th>8</th>\n",
       "      <th>9</th>\n",
       "      <th>10</th>\n",
       "      <th>...</th>\n",
       "      <th>601</th>\n",
       "      <th>602</th>\n",
       "      <th>603</th>\n",
       "      <th>604</th>\n",
       "      <th>605</th>\n",
       "      <th>606</th>\n",
       "      <th>607</th>\n",
       "      <th>608</th>\n",
       "      <th>609</th>\n",
       "      <th>610</th>\n",
       "    </tr>\n",
       "    <tr>\n",
       "      <th>movieId</th>\n",
       "      <th></th>\n",
       "      <th></th>\n",
       "      <th></th>\n",
       "      <th></th>\n",
       "      <th></th>\n",
       "      <th></th>\n",
       "      <th></th>\n",
       "      <th></th>\n",
       "      <th></th>\n",
       "      <th></th>\n",
       "      <th></th>\n",
       "      <th></th>\n",
       "      <th></th>\n",
       "      <th></th>\n",
       "      <th></th>\n",
       "      <th></th>\n",
       "      <th></th>\n",
       "      <th></th>\n",
       "      <th></th>\n",
       "      <th></th>\n",
       "      <th></th>\n",
       "    </tr>\n",
       "  </thead>\n",
       "  <tbody>\n",
       "    <tr>\n",
       "      <th>1</th>\n",
       "      <td>4.0</td>\n",
       "      <td>0.0</td>\n",
       "      <td>0.0</td>\n",
       "      <td>0.0</td>\n",
       "      <td>4.0</td>\n",
       "      <td>0.0</td>\n",
       "      <td>4.5</td>\n",
       "      <td>0.0</td>\n",
       "      <td>0.0</td>\n",
       "      <td>0.0</td>\n",
       "      <td>...</td>\n",
       "      <td>4.0</td>\n",
       "      <td>0.0</td>\n",
       "      <td>4.0</td>\n",
       "      <td>3.0</td>\n",
       "      <td>4.0</td>\n",
       "      <td>2.5</td>\n",
       "      <td>4.0</td>\n",
       "      <td>2.5</td>\n",
       "      <td>3.0</td>\n",
       "      <td>5.0</td>\n",
       "    </tr>\n",
       "    <tr>\n",
       "      <th>2</th>\n",
       "      <td>0.0</td>\n",
       "      <td>0.0</td>\n",
       "      <td>0.0</td>\n",
       "      <td>0.0</td>\n",
       "      <td>0.0</td>\n",
       "      <td>4.0</td>\n",
       "      <td>0.0</td>\n",
       "      <td>4.0</td>\n",
       "      <td>0.0</td>\n",
       "      <td>0.0</td>\n",
       "      <td>...</td>\n",
       "      <td>0.0</td>\n",
       "      <td>4.0</td>\n",
       "      <td>0.0</td>\n",
       "      <td>5.0</td>\n",
       "      <td>3.5</td>\n",
       "      <td>0.0</td>\n",
       "      <td>0.0</td>\n",
       "      <td>2.0</td>\n",
       "      <td>0.0</td>\n",
       "      <td>0.0</td>\n",
       "    </tr>\n",
       "    <tr>\n",
       "      <th>3</th>\n",
       "      <td>4.0</td>\n",
       "      <td>0.0</td>\n",
       "      <td>0.0</td>\n",
       "      <td>0.0</td>\n",
       "      <td>0.0</td>\n",
       "      <td>5.0</td>\n",
       "      <td>0.0</td>\n",
       "      <td>0.0</td>\n",
       "      <td>0.0</td>\n",
       "      <td>0.0</td>\n",
       "      <td>...</td>\n",
       "      <td>0.0</td>\n",
       "      <td>0.0</td>\n",
       "      <td>0.0</td>\n",
       "      <td>0.0</td>\n",
       "      <td>0.0</td>\n",
       "      <td>0.0</td>\n",
       "      <td>0.0</td>\n",
       "      <td>2.0</td>\n",
       "      <td>0.0</td>\n",
       "      <td>0.0</td>\n",
       "    </tr>\n",
       "    <tr>\n",
       "      <th>4</th>\n",
       "      <td>0.0</td>\n",
       "      <td>0.0</td>\n",
       "      <td>0.0</td>\n",
       "      <td>0.0</td>\n",
       "      <td>0.0</td>\n",
       "      <td>3.0</td>\n",
       "      <td>0.0</td>\n",
       "      <td>0.0</td>\n",
       "      <td>0.0</td>\n",
       "      <td>0.0</td>\n",
       "      <td>...</td>\n",
       "      <td>0.0</td>\n",
       "      <td>0.0</td>\n",
       "      <td>0.0</td>\n",
       "      <td>0.0</td>\n",
       "      <td>0.0</td>\n",
       "      <td>0.0</td>\n",
       "      <td>0.0</td>\n",
       "      <td>0.0</td>\n",
       "      <td>0.0</td>\n",
       "      <td>0.0</td>\n",
       "    </tr>\n",
       "    <tr>\n",
       "      <th>5</th>\n",
       "      <td>0.0</td>\n",
       "      <td>0.0</td>\n",
       "      <td>0.0</td>\n",
       "      <td>0.0</td>\n",
       "      <td>0.0</td>\n",
       "      <td>5.0</td>\n",
       "      <td>0.0</td>\n",
       "      <td>0.0</td>\n",
       "      <td>0.0</td>\n",
       "      <td>0.0</td>\n",
       "      <td>...</td>\n",
       "      <td>0.0</td>\n",
       "      <td>0.0</td>\n",
       "      <td>0.0</td>\n",
       "      <td>3.0</td>\n",
       "      <td>0.0</td>\n",
       "      <td>0.0</td>\n",
       "      <td>0.0</td>\n",
       "      <td>0.0</td>\n",
       "      <td>0.0</td>\n",
       "      <td>0.0</td>\n",
       "    </tr>\n",
       "    <tr>\n",
       "      <th>...</th>\n",
       "      <td>...</td>\n",
       "      <td>...</td>\n",
       "      <td>...</td>\n",
       "      <td>...</td>\n",
       "      <td>...</td>\n",
       "      <td>...</td>\n",
       "      <td>...</td>\n",
       "      <td>...</td>\n",
       "      <td>...</td>\n",
       "      <td>...</td>\n",
       "      <td>...</td>\n",
       "      <td>...</td>\n",
       "      <td>...</td>\n",
       "      <td>...</td>\n",
       "      <td>...</td>\n",
       "      <td>...</td>\n",
       "      <td>...</td>\n",
       "      <td>...</td>\n",
       "      <td>...</td>\n",
       "      <td>...</td>\n",
       "      <td>...</td>\n",
       "    </tr>\n",
       "    <tr>\n",
       "      <th>193581</th>\n",
       "      <td>0.0</td>\n",
       "      <td>0.0</td>\n",
       "      <td>0.0</td>\n",
       "      <td>0.0</td>\n",
       "      <td>0.0</td>\n",
       "      <td>0.0</td>\n",
       "      <td>0.0</td>\n",
       "      <td>0.0</td>\n",
       "      <td>0.0</td>\n",
       "      <td>0.0</td>\n",
       "      <td>...</td>\n",
       "      <td>0.0</td>\n",
       "      <td>0.0</td>\n",
       "      <td>0.0</td>\n",
       "      <td>0.0</td>\n",
       "      <td>0.0</td>\n",
       "      <td>0.0</td>\n",
       "      <td>0.0</td>\n",
       "      <td>0.0</td>\n",
       "      <td>0.0</td>\n",
       "      <td>0.0</td>\n",
       "    </tr>\n",
       "    <tr>\n",
       "      <th>193583</th>\n",
       "      <td>0.0</td>\n",
       "      <td>0.0</td>\n",
       "      <td>0.0</td>\n",
       "      <td>0.0</td>\n",
       "      <td>0.0</td>\n",
       "      <td>0.0</td>\n",
       "      <td>0.0</td>\n",
       "      <td>0.0</td>\n",
       "      <td>0.0</td>\n",
       "      <td>0.0</td>\n",
       "      <td>...</td>\n",
       "      <td>0.0</td>\n",
       "      <td>0.0</td>\n",
       "      <td>0.0</td>\n",
       "      <td>0.0</td>\n",
       "      <td>0.0</td>\n",
       "      <td>0.0</td>\n",
       "      <td>0.0</td>\n",
       "      <td>0.0</td>\n",
       "      <td>0.0</td>\n",
       "      <td>0.0</td>\n",
       "    </tr>\n",
       "    <tr>\n",
       "      <th>193585</th>\n",
       "      <td>0.0</td>\n",
       "      <td>0.0</td>\n",
       "      <td>0.0</td>\n",
       "      <td>0.0</td>\n",
       "      <td>0.0</td>\n",
       "      <td>0.0</td>\n",
       "      <td>0.0</td>\n",
       "      <td>0.0</td>\n",
       "      <td>0.0</td>\n",
       "      <td>0.0</td>\n",
       "      <td>...</td>\n",
       "      <td>0.0</td>\n",
       "      <td>0.0</td>\n",
       "      <td>0.0</td>\n",
       "      <td>0.0</td>\n",
       "      <td>0.0</td>\n",
       "      <td>0.0</td>\n",
       "      <td>0.0</td>\n",
       "      <td>0.0</td>\n",
       "      <td>0.0</td>\n",
       "      <td>0.0</td>\n",
       "    </tr>\n",
       "    <tr>\n",
       "      <th>193587</th>\n",
       "      <td>0.0</td>\n",
       "      <td>0.0</td>\n",
       "      <td>0.0</td>\n",
       "      <td>0.0</td>\n",
       "      <td>0.0</td>\n",
       "      <td>0.0</td>\n",
       "      <td>0.0</td>\n",
       "      <td>0.0</td>\n",
       "      <td>0.0</td>\n",
       "      <td>0.0</td>\n",
       "      <td>...</td>\n",
       "      <td>0.0</td>\n",
       "      <td>0.0</td>\n",
       "      <td>0.0</td>\n",
       "      <td>0.0</td>\n",
       "      <td>0.0</td>\n",
       "      <td>0.0</td>\n",
       "      <td>0.0</td>\n",
       "      <td>0.0</td>\n",
       "      <td>0.0</td>\n",
       "      <td>0.0</td>\n",
       "    </tr>\n",
       "    <tr>\n",
       "      <th>193609</th>\n",
       "      <td>0.0</td>\n",
       "      <td>0.0</td>\n",
       "      <td>0.0</td>\n",
       "      <td>0.0</td>\n",
       "      <td>0.0</td>\n",
       "      <td>0.0</td>\n",
       "      <td>0.0</td>\n",
       "      <td>0.0</td>\n",
       "      <td>0.0</td>\n",
       "      <td>0.0</td>\n",
       "      <td>...</td>\n",
       "      <td>0.0</td>\n",
       "      <td>0.0</td>\n",
       "      <td>0.0</td>\n",
       "      <td>0.0</td>\n",
       "      <td>0.0</td>\n",
       "      <td>0.0</td>\n",
       "      <td>0.0</td>\n",
       "      <td>0.0</td>\n",
       "      <td>0.0</td>\n",
       "      <td>0.0</td>\n",
       "    </tr>\n",
       "  </tbody>\n",
       "</table>\n",
       "<p>9724 rows × 610 columns</p>\n",
       "</div>"
      ],
      "text/plain": [
       "userId   1    2    3    4    5    6    7    8    9    10   ...  601  602  603  \\\n",
       "movieId                                                    ...                  \n",
       "1        4.0  0.0  0.0  0.0  4.0  0.0  4.5  0.0  0.0  0.0  ...  4.0  0.0  4.0   \n",
       "2        0.0  0.0  0.0  0.0  0.0  4.0  0.0  4.0  0.0  0.0  ...  0.0  4.0  0.0   \n",
       "3        4.0  0.0  0.0  0.0  0.0  5.0  0.0  0.0  0.0  0.0  ...  0.0  0.0  0.0   \n",
       "4        0.0  0.0  0.0  0.0  0.0  3.0  0.0  0.0  0.0  0.0  ...  0.0  0.0  0.0   \n",
       "5        0.0  0.0  0.0  0.0  0.0  5.0  0.0  0.0  0.0  0.0  ...  0.0  0.0  0.0   \n",
       "...      ...  ...  ...  ...  ...  ...  ...  ...  ...  ...  ...  ...  ...  ...   \n",
       "193581   0.0  0.0  0.0  0.0  0.0  0.0  0.0  0.0  0.0  0.0  ...  0.0  0.0  0.0   \n",
       "193583   0.0  0.0  0.0  0.0  0.0  0.0  0.0  0.0  0.0  0.0  ...  0.0  0.0  0.0   \n",
       "193585   0.0  0.0  0.0  0.0  0.0  0.0  0.0  0.0  0.0  0.0  ...  0.0  0.0  0.0   \n",
       "193587   0.0  0.0  0.0  0.0  0.0  0.0  0.0  0.0  0.0  0.0  ...  0.0  0.0  0.0   \n",
       "193609   0.0  0.0  0.0  0.0  0.0  0.0  0.0  0.0  0.0  0.0  ...  0.0  0.0  0.0   \n",
       "\n",
       "userId   604  605  606  607  608  609  610  \n",
       "movieId                                     \n",
       "1        3.0  4.0  2.5  4.0  2.5  3.0  5.0  \n",
       "2        5.0  3.5  0.0  0.0  2.0  0.0  0.0  \n",
       "3        0.0  0.0  0.0  0.0  2.0  0.0  0.0  \n",
       "4        0.0  0.0  0.0  0.0  0.0  0.0  0.0  \n",
       "5        3.0  0.0  0.0  0.0  0.0  0.0  0.0  \n",
       "...      ...  ...  ...  ...  ...  ...  ...  \n",
       "193581   0.0  0.0  0.0  0.0  0.0  0.0  0.0  \n",
       "193583   0.0  0.0  0.0  0.0  0.0  0.0  0.0  \n",
       "193585   0.0  0.0  0.0  0.0  0.0  0.0  0.0  \n",
       "193587   0.0  0.0  0.0  0.0  0.0  0.0  0.0  \n",
       "193609   0.0  0.0  0.0  0.0  0.0  0.0  0.0  \n",
       "\n",
       "[9724 rows x 610 columns]"
      ]
     },
     "execution_count": 25,
     "metadata": {},
     "output_type": "execute_result"
    }
   ],
   "source": [
    "def create_dataset(ratings):\n",
    "    '''\n",
    "    input : ratings dataframe\n",
    "    \n",
    "    return \n",
    "    feedback matrix : (num movies, num users)\n",
    "    \n",
    "    '''\n",
    "    matrix =  ratings.pivot(index = \"movieId\", columns = \"userId\", values = \"rating\")\n",
    "    matrix = matrix.fillna(0)\n",
    "    return matrix\n",
    "\n",
    "Y_df = create_dataset(ratings)\n",
    "Y_df\n",
    "    \n",
    "    "
   ]
  },
  {
   "cell_type": "code",
   "execution_count": 26,
   "metadata": {
    "execution": {
     "iopub.execute_input": "2025-03-01T12:19:06.233759Z",
     "iopub.status.busy": "2025-03-01T12:19:06.233425Z",
     "iopub.status.idle": "2025-03-01T12:19:06.273181Z",
     "shell.execute_reply": "2025-03-01T12:19:06.272138Z",
     "shell.execute_reply.started": "2025-03-01T12:19:06.233734Z"
    },
    "trusted": true
   },
   "outputs": [
    {
     "data": {
      "text/html": [
       "<div>\n",
       "<style scoped>\n",
       "    .dataframe tbody tr th:only-of-type {\n",
       "        vertical-align: middle;\n",
       "    }\n",
       "\n",
       "    .dataframe tbody tr th {\n",
       "        vertical-align: top;\n",
       "    }\n",
       "\n",
       "    .dataframe thead th {\n",
       "        text-align: right;\n",
       "    }\n",
       "</style>\n",
       "<table border=\"1\" class=\"dataframe\">\n",
       "  <thead>\n",
       "    <tr style=\"text-align: right;\">\n",
       "      <th>userId</th>\n",
       "      <th>1</th>\n",
       "      <th>2</th>\n",
       "      <th>3</th>\n",
       "      <th>4</th>\n",
       "      <th>5</th>\n",
       "      <th>6</th>\n",
       "      <th>7</th>\n",
       "      <th>8</th>\n",
       "      <th>9</th>\n",
       "      <th>10</th>\n",
       "      <th>...</th>\n",
       "      <th>601</th>\n",
       "      <th>602</th>\n",
       "      <th>603</th>\n",
       "      <th>604</th>\n",
       "      <th>605</th>\n",
       "      <th>606</th>\n",
       "      <th>607</th>\n",
       "      <th>608</th>\n",
       "      <th>609</th>\n",
       "      <th>610</th>\n",
       "    </tr>\n",
       "    <tr>\n",
       "      <th>movieId</th>\n",
       "      <th></th>\n",
       "      <th></th>\n",
       "      <th></th>\n",
       "      <th></th>\n",
       "      <th></th>\n",
       "      <th></th>\n",
       "      <th></th>\n",
       "      <th></th>\n",
       "      <th></th>\n",
       "      <th></th>\n",
       "      <th></th>\n",
       "      <th></th>\n",
       "      <th></th>\n",
       "      <th></th>\n",
       "      <th></th>\n",
       "      <th></th>\n",
       "      <th></th>\n",
       "      <th></th>\n",
       "      <th></th>\n",
       "      <th></th>\n",
       "      <th></th>\n",
       "    </tr>\n",
       "  </thead>\n",
       "  <tbody>\n",
       "    <tr>\n",
       "      <th>1</th>\n",
       "      <td>1</td>\n",
       "      <td>0</td>\n",
       "      <td>0</td>\n",
       "      <td>0</td>\n",
       "      <td>1</td>\n",
       "      <td>0</td>\n",
       "      <td>1</td>\n",
       "      <td>0</td>\n",
       "      <td>0</td>\n",
       "      <td>0</td>\n",
       "      <td>...</td>\n",
       "      <td>1</td>\n",
       "      <td>0</td>\n",
       "      <td>1</td>\n",
       "      <td>1</td>\n",
       "      <td>1</td>\n",
       "      <td>1</td>\n",
       "      <td>1</td>\n",
       "      <td>1</td>\n",
       "      <td>1</td>\n",
       "      <td>1</td>\n",
       "    </tr>\n",
       "    <tr>\n",
       "      <th>2</th>\n",
       "      <td>0</td>\n",
       "      <td>0</td>\n",
       "      <td>0</td>\n",
       "      <td>0</td>\n",
       "      <td>0</td>\n",
       "      <td>1</td>\n",
       "      <td>0</td>\n",
       "      <td>1</td>\n",
       "      <td>0</td>\n",
       "      <td>0</td>\n",
       "      <td>...</td>\n",
       "      <td>0</td>\n",
       "      <td>1</td>\n",
       "      <td>0</td>\n",
       "      <td>1</td>\n",
       "      <td>1</td>\n",
       "      <td>0</td>\n",
       "      <td>0</td>\n",
       "      <td>1</td>\n",
       "      <td>0</td>\n",
       "      <td>0</td>\n",
       "    </tr>\n",
       "    <tr>\n",
       "      <th>3</th>\n",
       "      <td>1</td>\n",
       "      <td>0</td>\n",
       "      <td>0</td>\n",
       "      <td>0</td>\n",
       "      <td>0</td>\n",
       "      <td>1</td>\n",
       "      <td>0</td>\n",
       "      <td>0</td>\n",
       "      <td>0</td>\n",
       "      <td>0</td>\n",
       "      <td>...</td>\n",
       "      <td>0</td>\n",
       "      <td>0</td>\n",
       "      <td>0</td>\n",
       "      <td>0</td>\n",
       "      <td>0</td>\n",
       "      <td>0</td>\n",
       "      <td>0</td>\n",
       "      <td>1</td>\n",
       "      <td>0</td>\n",
       "      <td>0</td>\n",
       "    </tr>\n",
       "    <tr>\n",
       "      <th>4</th>\n",
       "      <td>0</td>\n",
       "      <td>0</td>\n",
       "      <td>0</td>\n",
       "      <td>0</td>\n",
       "      <td>0</td>\n",
       "      <td>1</td>\n",
       "      <td>0</td>\n",
       "      <td>0</td>\n",
       "      <td>0</td>\n",
       "      <td>0</td>\n",
       "      <td>...</td>\n",
       "      <td>0</td>\n",
       "      <td>0</td>\n",
       "      <td>0</td>\n",
       "      <td>0</td>\n",
       "      <td>0</td>\n",
       "      <td>0</td>\n",
       "      <td>0</td>\n",
       "      <td>0</td>\n",
       "      <td>0</td>\n",
       "      <td>0</td>\n",
       "    </tr>\n",
       "    <tr>\n",
       "      <th>5</th>\n",
       "      <td>0</td>\n",
       "      <td>0</td>\n",
       "      <td>0</td>\n",
       "      <td>0</td>\n",
       "      <td>0</td>\n",
       "      <td>1</td>\n",
       "      <td>0</td>\n",
       "      <td>0</td>\n",
       "      <td>0</td>\n",
       "      <td>0</td>\n",
       "      <td>...</td>\n",
       "      <td>0</td>\n",
       "      <td>0</td>\n",
       "      <td>0</td>\n",
       "      <td>1</td>\n",
       "      <td>0</td>\n",
       "      <td>0</td>\n",
       "      <td>0</td>\n",
       "      <td>0</td>\n",
       "      <td>0</td>\n",
       "      <td>0</td>\n",
       "    </tr>\n",
       "    <tr>\n",
       "      <th>...</th>\n",
       "      <td>...</td>\n",
       "      <td>...</td>\n",
       "      <td>...</td>\n",
       "      <td>...</td>\n",
       "      <td>...</td>\n",
       "      <td>...</td>\n",
       "      <td>...</td>\n",
       "      <td>...</td>\n",
       "      <td>...</td>\n",
       "      <td>...</td>\n",
       "      <td>...</td>\n",
       "      <td>...</td>\n",
       "      <td>...</td>\n",
       "      <td>...</td>\n",
       "      <td>...</td>\n",
       "      <td>...</td>\n",
       "      <td>...</td>\n",
       "      <td>...</td>\n",
       "      <td>...</td>\n",
       "      <td>...</td>\n",
       "      <td>...</td>\n",
       "    </tr>\n",
       "    <tr>\n",
       "      <th>193581</th>\n",
       "      <td>0</td>\n",
       "      <td>0</td>\n",
       "      <td>0</td>\n",
       "      <td>0</td>\n",
       "      <td>0</td>\n",
       "      <td>0</td>\n",
       "      <td>0</td>\n",
       "      <td>0</td>\n",
       "      <td>0</td>\n",
       "      <td>0</td>\n",
       "      <td>...</td>\n",
       "      <td>0</td>\n",
       "      <td>0</td>\n",
       "      <td>0</td>\n",
       "      <td>0</td>\n",
       "      <td>0</td>\n",
       "      <td>0</td>\n",
       "      <td>0</td>\n",
       "      <td>0</td>\n",
       "      <td>0</td>\n",
       "      <td>0</td>\n",
       "    </tr>\n",
       "    <tr>\n",
       "      <th>193583</th>\n",
       "      <td>0</td>\n",
       "      <td>0</td>\n",
       "      <td>0</td>\n",
       "      <td>0</td>\n",
       "      <td>0</td>\n",
       "      <td>0</td>\n",
       "      <td>0</td>\n",
       "      <td>0</td>\n",
       "      <td>0</td>\n",
       "      <td>0</td>\n",
       "      <td>...</td>\n",
       "      <td>0</td>\n",
       "      <td>0</td>\n",
       "      <td>0</td>\n",
       "      <td>0</td>\n",
       "      <td>0</td>\n",
       "      <td>0</td>\n",
       "      <td>0</td>\n",
       "      <td>0</td>\n",
       "      <td>0</td>\n",
       "      <td>0</td>\n",
       "    </tr>\n",
       "    <tr>\n",
       "      <th>193585</th>\n",
       "      <td>0</td>\n",
       "      <td>0</td>\n",
       "      <td>0</td>\n",
       "      <td>0</td>\n",
       "      <td>0</td>\n",
       "      <td>0</td>\n",
       "      <td>0</td>\n",
       "      <td>0</td>\n",
       "      <td>0</td>\n",
       "      <td>0</td>\n",
       "      <td>...</td>\n",
       "      <td>0</td>\n",
       "      <td>0</td>\n",
       "      <td>0</td>\n",
       "      <td>0</td>\n",
       "      <td>0</td>\n",
       "      <td>0</td>\n",
       "      <td>0</td>\n",
       "      <td>0</td>\n",
       "      <td>0</td>\n",
       "      <td>0</td>\n",
       "    </tr>\n",
       "    <tr>\n",
       "      <th>193587</th>\n",
       "      <td>0</td>\n",
       "      <td>0</td>\n",
       "      <td>0</td>\n",
       "      <td>0</td>\n",
       "      <td>0</td>\n",
       "      <td>0</td>\n",
       "      <td>0</td>\n",
       "      <td>0</td>\n",
       "      <td>0</td>\n",
       "      <td>0</td>\n",
       "      <td>...</td>\n",
       "      <td>0</td>\n",
       "      <td>0</td>\n",
       "      <td>0</td>\n",
       "      <td>0</td>\n",
       "      <td>0</td>\n",
       "      <td>0</td>\n",
       "      <td>0</td>\n",
       "      <td>0</td>\n",
       "      <td>0</td>\n",
       "      <td>0</td>\n",
       "    </tr>\n",
       "    <tr>\n",
       "      <th>193609</th>\n",
       "      <td>0</td>\n",
       "      <td>0</td>\n",
       "      <td>0</td>\n",
       "      <td>0</td>\n",
       "      <td>0</td>\n",
       "      <td>0</td>\n",
       "      <td>0</td>\n",
       "      <td>0</td>\n",
       "      <td>0</td>\n",
       "      <td>0</td>\n",
       "      <td>...</td>\n",
       "      <td>0</td>\n",
       "      <td>0</td>\n",
       "      <td>0</td>\n",
       "      <td>0</td>\n",
       "      <td>0</td>\n",
       "      <td>0</td>\n",
       "      <td>0</td>\n",
       "      <td>0</td>\n",
       "      <td>0</td>\n",
       "      <td>0</td>\n",
       "    </tr>\n",
       "  </tbody>\n",
       "</table>\n",
       "<p>9724 rows × 610 columns</p>\n",
       "</div>"
      ],
      "text/plain": [
       "userId   1    2    3    4    5    6    7    8    9    10   ...  601  602  603  \\\n",
       "movieId                                                    ...                  \n",
       "1          1    0    0    0    1    0    1    0    0    0  ...    1    0    1   \n",
       "2          0    0    0    0    0    1    0    1    0    0  ...    0    1    0   \n",
       "3          1    0    0    0    0    1    0    0    0    0  ...    0    0    0   \n",
       "4          0    0    0    0    0    1    0    0    0    0  ...    0    0    0   \n",
       "5          0    0    0    0    0    1    0    0    0    0  ...    0    0    0   \n",
       "...      ...  ...  ...  ...  ...  ...  ...  ...  ...  ...  ...  ...  ...  ...   \n",
       "193581     0    0    0    0    0    0    0    0    0    0  ...    0    0    0   \n",
       "193583     0    0    0    0    0    0    0    0    0    0  ...    0    0    0   \n",
       "193585     0    0    0    0    0    0    0    0    0    0  ...    0    0    0   \n",
       "193587     0    0    0    0    0    0    0    0    0    0  ...    0    0    0   \n",
       "193609     0    0    0    0    0    0    0    0    0    0  ...    0    0    0   \n",
       "\n",
       "userId   604  605  606  607  608  609  610  \n",
       "movieId                                     \n",
       "1          1    1    1    1    1    1    1  \n",
       "2          1    1    0    0    1    0    0  \n",
       "3          0    0    0    0    1    0    0  \n",
       "4          0    0    0    0    0    0    0  \n",
       "5          1    0    0    0    0    0    0  \n",
       "...      ...  ...  ...  ...  ...  ...  ...  \n",
       "193581     0    0    0    0    0    0    0  \n",
       "193583     0    0    0    0    0    0    0  \n",
       "193585     0    0    0    0    0    0    0  \n",
       "193587     0    0    0    0    0    0    0  \n",
       "193609     0    0    0    0    0    0    0  \n",
       "\n",
       "[9724 rows x 610 columns]"
      ]
     },
     "execution_count": 26,
     "metadata": {},
     "output_type": "execute_result"
    }
   ],
   "source": [
    "R_df = (Y_df != 0).astype(int)\n",
    "R_df"
   ]
  },
  {
   "cell_type": "code",
   "execution_count": 27,
   "metadata": {
    "execution": {
     "iopub.execute_input": "2025-03-01T12:19:06.655869Z",
     "iopub.status.busy": "2025-03-01T12:19:06.655540Z",
     "iopub.status.idle": "2025-03-01T12:19:06.662079Z",
     "shell.execute_reply": "2025-03-01T12:19:06.660869Z",
     "shell.execute_reply.started": "2025-03-01T12:19:06.655846Z"
    },
    "trusted": true
   },
   "outputs": [],
   "source": [
    "tmean = np.mean(Y_df.loc[1,R_df.loc[1,:].astype(bool)])"
   ]
  },
  {
   "cell_type": "code",
   "execution_count": 28,
   "metadata": {
    "execution": {
     "iopub.execute_input": "2025-03-01T12:19:06.870054Z",
     "iopub.status.busy": "2025-03-01T12:19:06.869673Z",
     "iopub.status.idle": "2025-03-01T12:19:06.876252Z",
     "shell.execute_reply": "2025-03-01T12:19:06.875021Z",
     "shell.execute_reply.started": "2025-03-01T12:19:06.870024Z"
    },
    "trusted": true
   },
   "outputs": [
    {
     "data": {
      "text/plain": [
       "3.9209302325581397"
      ]
     },
     "execution_count": 28,
     "metadata": {},
     "output_type": "execute_result"
    }
   ],
   "source": [
    "tmean"
   ]
  },
  {
   "cell_type": "markdown",
   "metadata": {},
   "source": [
    "\n",
    "The collaborative filtering cost function is given by\n",
    "$$J({\\mathbf{x}^{(0)},...,\\mathbf{x}^{(n_m-1)},\\mathbf{w}^{(0)},b^{(0)},...,\\mathbf{w}^{(n_u-1)},b^{(n_u-1)}})= \\frac{1}{2}\\sum_{(i,j):r(i,j)=1}(\\mathbf{w}^{(j)} \\cdot \\mathbf{x}^{(i)} + b^{(j)} - y^{(i,j)})^2\n",
    "+\\underbrace{\n",
    "\\frac{\\lambda}{2}\n",
    "\\sum_{j=0}^{n_u-1}\\sum_{k=0}^{n-1}(\\mathbf{w}^{(j)}_k)^2\n",
    "+ \\frac{\\lambda}{2}\\sum_{i=0}^{n_m-1}\\sum_{k=0}^{n-1}(\\mathbf{x}_k^{(i)})^2\n",
    "}_{regularization}\n",
    "\\tag{1}$$\n",
    "The first summation in (1) is \"for all $i$, $j$ where $r(i,j)$ equals $1$\" and could be written:\n",
    "\n",
    "$$\n",
    "= \\frac{1}{2}\\sum_{j=0}^{n_u-1} \\sum_{i=0}^{n_m-1}r(i,j)*(\\mathbf{w}^{(j)} \\cdot \\mathbf{x}^{(i)} + b^{(j)} - y^{(i,j)})^2\n",
    "+\\text{regularization}\n",
    "$$\n",
    "\n"
   ]
  },
  {
   "cell_type": "code",
   "execution_count": 29,
   "metadata": {
    "execution": {
     "iopub.execute_input": "2025-03-01T12:19:07.195151Z",
     "iopub.status.busy": "2025-03-01T12:19:07.194764Z",
     "iopub.status.idle": "2025-03-01T12:19:07.200690Z",
     "shell.execute_reply": "2025-03-01T12:19:07.199429Z",
     "shell.execute_reply.started": "2025-03-01T12:19:07.195121Z"
    },
    "trusted": true
   },
   "outputs": [],
   "source": [
    "def cost_func(X, W, b, Y, R, lambda_):\n",
    "    \"\"\"\n",
    "    Returns the cost for the content-based filtering\n",
    "    Args:\n",
    "      X (ndarray (num_movies,num_features)): matrix of item features (tensor)\n",
    "      W (ndarray (num_users,num_features)) : matrix of user parameters (tensor)\n",
    "      b (ndarray (1, num_users)            : vector of user parameters (tensor)\n",
    "      Y (ndarray (num_movies,num_users)    : matrix of user ratings of movies (tensor)\n",
    "      R (ndarray (num_movies,num_users)    : matrix, where R(i, j) = 1 if the i-th movies was rated by the j-th user\n",
    "      lambda_ (float): regularization parameter\n",
    "    Returns:\n",
    "      J (float) : Cost\n",
    "    \"\"\"\n",
    "    y_hat = torch.matmul(X,W.t()) + b \n",
    "    j = (y_hat - Y) * R\n",
    "    J = 0.5* torch.sum(j**2) + lambda_/2 * (torch.sum(W**2) + torch.sum(X**2)) \n",
    "    return J"
   ]
  },
  {
   "cell_type": "markdown",
   "metadata": {},
   "source": [
    "**Normalize ratings**\\\n",
    "We normalize the ratings to make the algorithm run faster and more efficient."
   ]
  },
  {
   "cell_type": "code",
   "execution_count": 30,
   "metadata": {
    "execution": {
     "iopub.execute_input": "2025-03-01T12:19:07.385624Z",
     "iopub.status.busy": "2025-03-01T12:19:07.385245Z",
     "iopub.status.idle": "2025-03-01T12:19:07.391443Z",
     "shell.execute_reply": "2025-03-01T12:19:07.390234Z",
     "shell.execute_reply.started": "2025-03-01T12:19:07.385596Z"
    },
    "trusted": true
   },
   "outputs": [],
   "source": [
    "def normalizeRatings(Y, R):\n",
    "    \"\"\"\n",
    "    Preprocess data by subtracting mean rating for every movie (every row).\n",
    "    Only include real ratings R(i,j)=1.\n",
    "    [Ynorm, Ymean] = normalizeRatings(Y, R) normalized Y so that each movie\n",
    "    has a rating of 0 on average. Unrated moves then have a mean rating (0)\n",
    "    Returns the mean rating in Ymean.\n",
    "    \"\"\"\n",
    "    Ymean = (np.sum(Y*R,axis=1)/(np.sum(R, axis=1)+1e-12)).reshape(-1,1)\n",
    "    Ynorm = Y - np.multiply(Ymean, R) \n",
    "    return(Ynorm, Ymean)"
   ]
  },
  {
   "cell_type": "markdown",
   "metadata": {},
   "source": [
    "**Convert dataframe to tensor and initialize weight for users and movies matrix**"
   ]
  },
  {
   "cell_type": "code",
   "execution_count": 68,
   "metadata": {
    "execution": {
     "iopub.execute_input": "2025-03-01T12:31:29.694444Z",
     "iopub.status.busy": "2025-03-01T12:31:29.693899Z",
     "iopub.status.idle": "2025-03-01T12:31:29.752062Z",
     "shell.execute_reply": "2025-03-01T12:31:29.751044Z",
     "shell.execute_reply.started": "2025-03-01T12:31:29.694402Z"
    },
    "trusted": true
   },
   "outputs": [],
   "source": [
    "\n",
    "\n",
    "def prepare_data(Y_df,R_df, newRatings = None):\n",
    "    Y_np = Y_df.to_numpy()\n",
    "    R_np = R_df.to_numpy()\n",
    "    if newRatings is not None:\n",
    "        Y_np = np.c_[Y_df,newRatings]\n",
    "        R_np = np.c_[R_np,(newRatings!=0).astype(int)]\n",
    "            \n",
    "    \n",
    "    Ynorm,Ymean = normalizeRatings(Y_np,R_np)\n",
    "    Ynorm = torch.tensor(Ynorm)\n",
    "    Ymean = torch.tensor(Ymean)\n",
    "    \n",
    "    Rtensor = torch.tensor(R_np)\n",
    "    return (Ynorm,Ymean, Rtensor)\n",
    "def prepare_train(Y_df,R_df,newRatings =None, num_features = 10):\n",
    "    num_movies = Y_df.shape[0]\n",
    "    num_users = Y_df.shape[1]\n",
    "    W = torch.randn((num_users if newRatings is None else num_users+1), num_features, dtype=torch.float64, requires_grad=True)\n",
    "    X = torch.randn(num_movies, num_features, dtype=torch.float64, requires_grad=True)\n",
    "    b = torch.randn(1, (num_users if newRatings is None else num_users+1), dtype=torch.float64, requires_grad=True)\n",
    "\n",
    "\n",
    "    Ynorm,Ymean,R = prepare_data(Y_df,R_df,newRatings)\n",
    "    return X,W,b,R, Ynorm, Ymean\n",
    "\n"
   ]
  },
  {
   "cell_type": "markdown",
   "metadata": {},
   "source": [
    "## Add new user\n",
    "Added new user that we would give recommendation"
   ]
  },
  {
   "cell_type": "code",
   "execution_count": 69,
   "metadata": {
    "execution": {
     "iopub.execute_input": "2025-03-01T12:31:31.925759Z",
     "iopub.status.busy": "2025-03-01T12:31:31.925410Z",
     "iopub.status.idle": "2025-03-01T12:31:31.931568Z",
     "shell.execute_reply": "2025-03-01T12:31:31.930555Z",
     "shell.execute_reply.started": "2025-03-01T12:31:31.925735Z"
    },
    "trusted": true
   },
   "outputs": [],
   "source": [
    "my_ratings =np.zeros(Y_df.shape[0])# initialize array for new user with length of num movies\n",
    "\n",
    "my_ratings[929]  = 4   \n",
    "my_ratings[246]  = 4   \n",
    "my_ratings[2716] = 2   \n",
    "my_ratings[1150] = 5   \n",
    "my_ratings[382]  = 3   \n",
    "my_ratings[366]  = 5   \n",
    "my_ratings[622]  = 5   \n",
    "my_ratings[988]  = 3   \n",
    "my_ratings[2925] = 1   \n",
    "my_ratings[2937] = 1   \n",
    "my_ratings[793]  = 5  "
   ]
  },
  {
   "cell_type": "code",
   "execution_count": 70,
   "metadata": {
    "execution": {
     "iopub.execute_input": "2025-03-01T12:31:32.202695Z",
     "iopub.status.busy": "2025-03-01T12:31:32.202301Z",
     "iopub.status.idle": "2025-03-01T12:31:32.217839Z",
     "shell.execute_reply": "2025-03-01T12:31:32.216373Z",
     "shell.execute_reply.started": "2025-03-01T12:31:32.202666Z"
    },
    "trusted": true
   },
   "outputs": [
    {
     "name": "stdout",
     "output_type": "stream",
     "text": [
      "\n",
      "New user ratings:\n",
      "\n",
      "Rated 4.0 for New York Cop (Nyû Yôku no koppu) (1993) movie - 246\n",
      "Rated 5.0 for Blink (1994) movie - 366\n",
      "Rated 3.0 for Cowboy Way, The (1994) movie - 382\n",
      "Rated 5.0 for Nutty Professor, The (1996) movie - 622\n",
      "Rated 5.0 for Die Hard (1988) movie - 793\n",
      "Rated 4.0 for Raging Bull (1980) movie - 929\n",
      "Rated 3.0 for Koyaanisqatsi (a.k.a. Koyaanisqatsi: Life Out of Balance) (1983) movie - 988\n",
      "Rated 5.0 for Romy and Michele's High School Reunion (1997) movie - 1150\n",
      "Rated 2.0 for Fighting Seabees, The (1944) movie - 2716\n",
      "Rated 1.0 for Bikini Beach (1964) movie - 2925\n",
      "Rated 1.0 for Slumber Party Massacre III (1990) movie - 2937\n"
     ]
    }
   ],
   "source": [
    "my_rated = [i for i in range(len(my_ratings)) if my_ratings[i]>0]\n",
    "\n",
    "print('\\nNew user ratings:\\n')\n",
    "for i in range(len(my_ratings)):\n",
    "    if my_ratings[i]>0:\n",
    "        print(f'Rated {my_ratings[i]} for {movies.loc[i,\"title\"]} movie - {i}')"
   ]
  },
  {
   "cell_type": "code",
   "execution_count": null,
   "metadata": {
    "execution": {
     "iopub.execute_input": "2025-03-01T12:56:40.551081Z",
     "iopub.status.busy": "2025-03-01T12:56:40.550707Z",
     "iopub.status.idle": "2025-03-01T12:56:40.571395Z",
     "shell.execute_reply": "2025-03-01T12:56:40.570351Z",
     "shell.execute_reply.started": "2025-03-01T12:56:40.551052Z"
    },
    "trusted": true
   },
   "outputs": [
    {
     "data": {
      "text/plain": [
       "tensor([[3.9209],\n",
       "        [3.4318],\n",
       "        [3.2596],\n",
       "        ...,\n",
       "        [3.5000],\n",
       "        [3.5000],\n",
       "        [4.0000]], dtype=torch.float64)"
      ]
     },
     "execution_count": 112,
     "metadata": {},
     "output_type": "execute_result"
    }
   ],
   "source": [
    "Ymean"
   ]
  },
  {
   "cell_type": "markdown",
   "metadata": {},
   "source": [
    "# 4. Train the model"
   ]
  },
  {
   "cell_type": "code",
   "execution_count": null,
   "metadata": {
    "execution": {
     "iopub.execute_input": "2025-03-01T12:56:40.160262Z",
     "iopub.status.busy": "2025-03-01T12:56:40.159855Z",
     "iopub.status.idle": "2025-03-01T12:56:40.520791Z",
     "shell.execute_reply": "2025-03-01T12:56:40.519834Z",
     "shell.execute_reply.started": "2025-03-01T12:56:40.160222Z"
    },
    "trusted": true
   },
   "outputs": [],
   "source": [
    "X,W,b,R,Ynorm,Ymean = prepare_train(Y_df,R_df,my_ratings,150)"
   ]
  },
  {
   "cell_type": "code",
   "execution_count": null,
   "metadata": {
    "execution": {
     "iopub.execute_input": "2025-03-01T12:56:40.572857Z",
     "iopub.status.busy": "2025-03-01T12:56:40.572562Z",
     "iopub.status.idle": "2025-03-01T12:56:40.590836Z",
     "shell.execute_reply": "2025-03-01T12:56:40.589830Z",
     "shell.execute_reply.started": "2025-03-01T12:56:40.572832Z"
    },
    "trusted": true
   },
   "outputs": [],
   "source": [
    "opt = optim.Adam([X,W,b], lr = 1e-1 )"
   ]
  },
  {
   "cell_type": "code",
   "execution_count": null,
   "metadata": {
    "execution": {
     "iopub.execute_input": "2025-03-01T12:59:14.627746Z",
     "iopub.status.busy": "2025-03-01T12:59:14.627376Z",
     "iopub.status.idle": "2025-03-01T13:00:47.597608Z",
     "shell.execute_reply": "2025-03-01T13:00:47.596604Z",
     "shell.execute_reply.started": "2025-03-01T12:59:14.627718Z"
    },
    "trusted": true
   },
   "outputs": [
    {
     "name": "stdout",
     "output_type": "stream",
     "text": [
      "Training loss at iteration 20: 7202.3\n",
      "Training loss at iteration 40: 6345.4\n",
      "Training loss at iteration 60: 5750.9\n",
      "Training loss at iteration 80: 5331.1\n",
      "Training loss at iteration 100: 5029.2\n",
      "Training loss at iteration 120: 4808.1\n",
      "Training loss at iteration 140: 4643.0\n",
      "Training loss at iteration 160: 4517.5\n",
      "Training loss at iteration 180: 4420.4\n",
      "Training loss at iteration 200: 4343.9\n"
     ]
    }
   ],
   "source": [
    "def train(iteration,lambda_):\n",
    "    \n",
    "    for iter in range(1, iteration+1):\n",
    "        opt.zero_grad()\n",
    "        cost_value = cost_func(X,W,b,Ynorm,R,lambda_)\n",
    "        cost_value.backward()\n",
    "        opt.step()\n",
    "        if iter % 20 == 0:\n",
    "            # .item() converts the tensor to a standard Python number for printing\n",
    "            print(f\"Training loss at iteration {iter}: {cost_value.item():0.1f}\")\n",
    "train(200,1)"
   ]
  },
  {
   "cell_type": "markdown",
   "metadata": {},
   "source": [
    "# 5. Make Recommendations"
   ]
  },
  {
   "cell_type": "code",
   "execution_count": null,
   "metadata": {
    "execution": {
     "iopub.execute_input": "2025-03-01T13:01:11.823747Z",
     "iopub.status.busy": "2025-03-01T13:01:11.823265Z",
     "iopub.status.idle": "2025-03-01T13:01:11.989355Z",
     "shell.execute_reply": "2025-03-01T13:01:11.988197Z",
     "shell.execute_reply.started": "2025-03-01T13:01:11.823707Z"
    },
    "trusted": true
   },
   "outputs": [
    {
     "name": "stdout",
     "output_type": "stream",
     "text": [
      "Predicting rating 4.96 for movie Return of Martin Guerre, The (Retour de Martin Guerre, Le) (1982)\n",
      "Predicting rating 4.96 for movie Belle époque (1992)\n",
      "Predicting rating 4.95 for movie Night Porter, The (Portiere di notte, Il) (1974)\n",
      "Predicting rating 4.95 for movie MatchMaker, The (1997)\n",
      "Predicting rating 4.94 for movie Tightrope (1984)\n",
      "Predicting rating 4.94 for movie Thin Line Between Love and Hate, A (1996)\n",
      "Predicting rating 4.93 for movie Fog, The (2005)\n",
      "Predicting rating 4.93 for movie The Fault in Our Stars (2014)\n",
      "Predicting rating 4.93 for movie Skulls, The (2000)\n",
      "Predicting rating 4.92 for movie Bachelor and the Bobby-Soxer, The (1947)\n",
      "Predicting rating 4.92 for movie Silk Stockings (1957)\n",
      "Predicting rating 4.92 for movie When a Woman Ascends the Stairs (Onna ga kaidan wo agaru toki) (1960)\n",
      "Predicting rating 4.92 for movie Door in the Floor, The (2004)\n",
      "Predicting rating 4.92 for movie Black Mass (2015)\n",
      "Predicting rating 4.92 for movie Redbelt (2008)\n",
      "\n",
      "\n",
      " Original vs Predicted ratings:\n",
      "\n",
      "Original 4.0, Predicted 4.04 for movie New York Cop (Nyû Yôku no koppu) (1993)\n",
      "Original 5.0, Predicted 4.52 for movie Blink (1994)\n",
      "Original 3.0, Predicted 2.92 for movie Cowboy Way, The (1994)\n",
      "Original 5.0, Predicted 4.89 for movie Nutty Professor, The (1996)\n",
      "Original 5.0, Predicted 4.94 for movie Die Hard (1988)\n",
      "Original 4.0, Predicted 3.95 for movie Raging Bull (1980)\n",
      "Original 3.0, Predicted 3.08 for movie Koyaanisqatsi (a.k.a. Koyaanisqatsi: Life Out of Balance) (1983)\n",
      "Original 5.0, Predicted 4.67 for movie Romy and Michele's High School Reunion (1997)\n",
      "Original 2.0, Predicted 2.12 for movie Fighting Seabees, The (1944)\n",
      "Original 1.0, Predicted 1.60 for movie Bikini Beach (1964)\n",
      "Original 1.0, Predicted 1.26 for movie Slumber Party Massacre III (1990)\n"
     ]
    }
   ],
   "source": [
    "pred = torch.matmul(X,W.t())+b\n",
    "predm = pred + Ymean\n",
    "my_pred = predm[:,-1]\n",
    "\n",
    "idx = torch.argsort(my_pred,descending = True)\n",
    "\n",
    "for i in range(16):\n",
    "    j = idx[i].item()\n",
    "    if j not in my_rated:\n",
    "        print(f'Predicting rating {my_pred[j].item():0.2f} for movie {movies.loc[j,\"title\"]}')\n",
    "\n",
    "print('\\n\\n Original vs Predicted ratings:\\n')\n",
    "for i in range(len(my_ratings)):\n",
    "    if my_ratings[i]>0:\n",
    "        print(f'Original {my_ratings[i]}, Predicted {my_pred[i].item():0.2f} for movie {movies.loc[i,\"title\"]}')\n"
   ]
  }
 ],
 "metadata": {
  "kaggle": {
   "accelerator": "none",
   "dataSources": [
    {
     "datasetId": 6747107,
     "sourceId": 10861278,
     "sourceType": "datasetVersion"
    }
   ],
   "dockerImageVersionId": 30886,
   "isGpuEnabled": false,
   "isInternetEnabled": true,
   "language": "python",
   "sourceType": "notebook"
  },
  "kernelspec": {
   "display_name": ".venv",
   "language": "python",
   "name": "python3"
  },
  "language_info": {
   "codemirror_mode": {
    "name": "ipython",
    "version": 3
   },
   "file_extension": ".py",
   "mimetype": "text/x-python",
   "name": "python",
   "nbconvert_exporter": "python",
   "pygments_lexer": "ipython3",
   "version": "3.12.0"
  }
 },
 "nbformat": 4,
 "nbformat_minor": 4
}
